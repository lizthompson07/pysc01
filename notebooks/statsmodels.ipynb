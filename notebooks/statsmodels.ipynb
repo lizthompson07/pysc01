{
 "cells": [
  {
   "cell_type": "code",
   "execution_count": 2,
   "metadata": {},
   "outputs": [],
   "source": [
    "import statsmodels.formula.api as smf\n",
    "\n",
    "import pandas as pd"
   ]
  },
  {
   "cell_type": "code",
   "execution_count": 3,
   "metadata": {},
   "outputs": [],
   "source": [
    "weight_df = pd.read_csv(\"https://raw.githubusercontent.com/mark-andrews/pysc01/master/data/weight.csv\")"
   ]
  },
  {
   "cell_type": "code",
   "execution_count": 4,
   "metadata": {},
   "outputs": [],
   "source": [
    "# M <- lm(weight ~ height, data = weight_df)\n",
    "M = smf.ols('weight ~ height', data = weight_df)"
   ]
  },
  {
   "cell_type": "code",
   "execution_count": 7,
   "metadata": {},
   "outputs": [],
   "source": [
    "results = M.fit()"
   ]
  },
  {
   "cell_type": "code",
   "execution_count": 8,
   "metadata": {},
   "outputs": [],
   "source": [
    "results = smf.ols('weight ~ height', data = weight_df).fit()"
   ]
  },
  {
   "cell_type": "code",
   "execution_count": 10,
   "metadata": {},
   "outputs": [
    {
     "name": "stdout",
     "output_type": "stream",
     "text": [
      "                            OLS Regression Results                            \n",
      "==============================================================================\n",
      "Dep. Variable:                 weight   R-squared:                       0.436\n",
      "Model:                            OLS   Adj. R-squared:                  0.436\n",
      "Method:                 Least Squares   F-statistic:                     4688.\n",
      "Date:                Thu, 03 Dec 2020   Prob (F-statistic):               0.00\n",
      "Time:                        16:19:30   Log-Likelihood:                -23563.\n",
      "No. Observations:                6068   AIC:                         4.713e+04\n",
      "Df Residuals:                    6066   BIC:                         4.714e+04\n",
      "Df Model:                           1                                         \n",
      "Covariance Type:            nonrobust                                         \n",
      "==============================================================================\n",
      "                 coef    std err          t      P>|t|      [0.025      0.975]\n",
      "------------------------------------------------------------------------------\n",
      "Intercept   -117.1280      2.879    -40.688      0.000    -122.771    -111.485\n",
      "height         1.1481      0.017     68.472      0.000       1.115       1.181\n",
      "==============================================================================\n",
      "Omnibus:                      190.197   Durbin-Watson:                   1.893\n",
      "Prob(Omnibus):                  0.000   Jarque-Bera (JB):              214.639\n",
      "Skew:                           0.414   Prob(JB):                     2.46e-47\n",
      "Kurtosis:                       3.404   Cond. No.                     3.27e+03\n",
      "==============================================================================\n",
      "\n",
      "Notes:\n",
      "[1] Standard Errors assume that the covariance matrix of the errors is correctly specified.\n",
      "[2] The condition number is large, 3.27e+03. This might indicate that there are\n",
      "strong multicollinearity or other numerical problems.\n"
     ]
    }
   ],
   "source": [
    "print(results.summary())"
   ]
  },
  {
   "cell_type": "code",
   "execution_count": 18,
   "metadata": {},
   "outputs": [
    {
     "data": {
      "text/plain": [
       "Intercept    0.0\n",
       "height       0.0\n",
       "dtype: float64"
      ]
     },
     "execution_count": 18,
     "metadata": {},
     "output_type": "execute_result"
    }
   ],
   "source": [
    "results.pvalues"
   ]
  },
  {
   "cell_type": "code",
   "execution_count": 19,
   "metadata": {},
   "outputs": [
    {
     "data": {
      "text/plain": [
       "Intercept   -117.128021\n",
       "height         1.148138\n",
       "dtype: float64"
      ]
     },
     "execution_count": 19,
     "metadata": {},
     "output_type": "execute_result"
    }
   ],
   "source": [
    "results.params"
   ]
  },
  {
   "cell_type": "code",
   "execution_count": 17,
   "metadata": {},
   "outputs": [
    {
     "data": {
      "text/plain": [
       "array([-117.12802067,    1.14813765])"
      ]
     },
     "execution_count": 17,
     "metadata": {},
     "output_type": "execute_result"
    }
   ],
   "source": [
    "results.params.values"
   ]
  },
  {
   "cell_type": "code",
   "execution_count": 24,
   "metadata": {},
   "outputs": [
    {
     "data": {
      "text/html": [
       "<div>\n",
       "<style scoped>\n",
       "    .dataframe tbody tr th:only-of-type {\n",
       "        vertical-align: middle;\n",
       "    }\n",
       "\n",
       "    .dataframe tbody tr th {\n",
       "        vertical-align: top;\n",
       "    }\n",
       "\n",
       "    .dataframe thead th {\n",
       "        text-align: right;\n",
       "    }\n",
       "</style>\n",
       "<table border=\"1\" class=\"dataframe\">\n",
       "  <thead>\n",
       "    <tr style=\"text-align: right;\">\n",
       "      <th></th>\n",
       "      <th>0</th>\n",
       "      <th>1</th>\n",
       "    </tr>\n",
       "  </thead>\n",
       "  <tbody>\n",
       "    <tr>\n",
       "      <th>Intercept</th>\n",
       "      <td>-122.771280</td>\n",
       "      <td>-111.484761</td>\n",
       "    </tr>\n",
       "    <tr>\n",
       "      <th>height</th>\n",
       "      <td>1.115266</td>\n",
       "      <td>1.181009</td>\n",
       "    </tr>\n",
       "  </tbody>\n",
       "</table>\n",
       "</div>"
      ],
      "text/plain": [
       "                    0           1\n",
       "Intercept -122.771280 -111.484761\n",
       "height       1.115266    1.181009"
      ]
     },
     "execution_count": 24,
     "metadata": {},
     "output_type": "execute_result"
    }
   ],
   "source": [
    "results.conf_int()"
   ]
  },
  {
   "cell_type": "markdown",
   "metadata": {},
   "source": [
    "In R\n",
    "```\n",
    "M <- lm(weight ~ height, data = weight_df)\n",
    "predict(M)\n",
    "```"
   ]
  },
  {
   "cell_type": "code",
   "execution_count": 27,
   "metadata": {},
   "outputs": [
    {
     "data": {
      "text/plain": [
       "array([86.78122514, 78.28500656, 82.07386079, ..., 71.62580822,\n",
       "       68.41102281, 71.28136692])"
      ]
     },
     "execution_count": 27,
     "metadata": {},
     "output_type": "execute_result"
    }
   ],
   "source": [
    "results.predict()"
   ]
  },
  {
   "cell_type": "markdown",
   "metadata": {},
   "source": [
    "In R\n",
    "```\n",
    "M <- lm(weight ~ height, data = weight_df)\n",
    "predict(M, newdata = tibble(height = c(150, 200)))\n",
    "```"
   ]
  },
  {
   "cell_type": "code",
   "execution_count": 29,
   "metadata": {},
   "outputs": [
    {
     "data": {
      "text/plain": [
       "0     55.092626\n",
       "1    112.499508\n",
       "2    169.906391\n",
       "dtype: float64"
      ]
     },
     "execution_count": 29,
     "metadata": {},
     "output_type": "execute_result"
    }
   ],
   "source": [
    "results.predict(exog = pd.DataFrame(data = {'height': [150, 200, 250]}))"
   ]
  },
  {
   "cell_type": "code",
   "execution_count": 35,
   "metadata": {},
   "outputs": [],
   "source": [
    "weight_df['heavy'] = 1*(weight_df.weight > 90)"
   ]
  },
  {
   "cell_type": "code",
   "execution_count": 36,
   "metadata": {},
   "outputs": [
    {
     "data": {
      "text/html": [
       "<div>\n",
       "<style scoped>\n",
       "    .dataframe tbody tr th:only-of-type {\n",
       "        vertical-align: middle;\n",
       "    }\n",
       "\n",
       "    .dataframe tbody tr th {\n",
       "        vertical-align: top;\n",
       "    }\n",
       "\n",
       "    .dataframe thead th {\n",
       "        text-align: right;\n",
       "    }\n",
       "</style>\n",
       "<table border=\"1\" class=\"dataframe\">\n",
       "  <thead>\n",
       "    <tr style=\"text-align: right;\">\n",
       "      <th></th>\n",
       "      <th>subjectid</th>\n",
       "      <th>gender</th>\n",
       "      <th>height</th>\n",
       "      <th>weight</th>\n",
       "      <th>handedness</th>\n",
       "      <th>age</th>\n",
       "      <th>race</th>\n",
       "      <th>heavy</th>\n",
       "    </tr>\n",
       "  </thead>\n",
       "  <tbody>\n",
       "    <tr>\n",
       "      <th>0</th>\n",
       "      <td>10027</td>\n",
       "      <td>male</td>\n",
       "      <td>177.6</td>\n",
       "      <td>81.5</td>\n",
       "      <td>right</td>\n",
       "      <td>41</td>\n",
       "      <td>white</td>\n",
       "      <td>0</td>\n",
       "    </tr>\n",
       "    <tr>\n",
       "      <th>1</th>\n",
       "      <td>10032</td>\n",
       "      <td>male</td>\n",
       "      <td>170.2</td>\n",
       "      <td>72.6</td>\n",
       "      <td>left</td>\n",
       "      <td>35</td>\n",
       "      <td>white</td>\n",
       "      <td>0</td>\n",
       "    </tr>\n",
       "    <tr>\n",
       "      <th>2</th>\n",
       "      <td>10033</td>\n",
       "      <td>male</td>\n",
       "      <td>173.5</td>\n",
       "      <td>92.9</td>\n",
       "      <td>left</td>\n",
       "      <td>42</td>\n",
       "      <td>black</td>\n",
       "      <td>1</td>\n",
       "    </tr>\n",
       "    <tr>\n",
       "      <th>3</th>\n",
       "      <td>10092</td>\n",
       "      <td>male</td>\n",
       "      <td>165.5</td>\n",
       "      <td>79.4</td>\n",
       "      <td>right</td>\n",
       "      <td>31</td>\n",
       "      <td>white</td>\n",
       "      <td>0</td>\n",
       "    </tr>\n",
       "    <tr>\n",
       "      <th>4</th>\n",
       "      <td>10093</td>\n",
       "      <td>male</td>\n",
       "      <td>191.4</td>\n",
       "      <td>94.6</td>\n",
       "      <td>right</td>\n",
       "      <td>21</td>\n",
       "      <td>black</td>\n",
       "      <td>1</td>\n",
       "    </tr>\n",
       "    <tr>\n",
       "      <th>...</th>\n",
       "      <td>...</td>\n",
       "      <td>...</td>\n",
       "      <td>...</td>\n",
       "      <td>...</td>\n",
       "      <td>...</td>\n",
       "      <td>...</td>\n",
       "      <td>...</td>\n",
       "      <td>...</td>\n",
       "    </tr>\n",
       "    <tr>\n",
       "      <th>6063</th>\n",
       "      <td>29501</td>\n",
       "      <td>female</td>\n",
       "      <td>168.7</td>\n",
       "      <td>83.2</td>\n",
       "      <td>right</td>\n",
       "      <td>51</td>\n",
       "      <td>hispanic</td>\n",
       "      <td>0</td>\n",
       "    </tr>\n",
       "    <tr>\n",
       "      <th>6064</th>\n",
       "      <td>29502</td>\n",
       "      <td>female</td>\n",
       "      <td>161.3</td>\n",
       "      <td>71.7</td>\n",
       "      <td>right</td>\n",
       "      <td>40</td>\n",
       "      <td>hispanic</td>\n",
       "      <td>0</td>\n",
       "    </tr>\n",
       "    <tr>\n",
       "      <th>6065</th>\n",
       "      <td>29503</td>\n",
       "      <td>female</td>\n",
       "      <td>164.4</td>\n",
       "      <td>76.2</td>\n",
       "      <td>right</td>\n",
       "      <td>40</td>\n",
       "      <td>black</td>\n",
       "      <td>0</td>\n",
       "    </tr>\n",
       "    <tr>\n",
       "      <th>6066</th>\n",
       "      <td>29511</td>\n",
       "      <td>female</td>\n",
       "      <td>161.6</td>\n",
       "      <td>63.2</td>\n",
       "      <td>right</td>\n",
       "      <td>31</td>\n",
       "      <td>hispanic</td>\n",
       "      <td>0</td>\n",
       "    </tr>\n",
       "    <tr>\n",
       "      <th>6067</th>\n",
       "      <td>920103</td>\n",
       "      <td>female</td>\n",
       "      <td>164.1</td>\n",
       "      <td>61.0</td>\n",
       "      <td>right</td>\n",
       "      <td>27</td>\n",
       "      <td>hispanic</td>\n",
       "      <td>0</td>\n",
       "    </tr>\n",
       "  </tbody>\n",
       "</table>\n",
       "<p>6068 rows × 8 columns</p>\n",
       "</div>"
      ],
      "text/plain": [
       "      subjectid  gender  height  weight handedness  age      race  heavy\n",
       "0         10027    male   177.6    81.5      right   41     white      0\n",
       "1         10032    male   170.2    72.6       left   35     white      0\n",
       "2         10033    male   173.5    92.9       left   42     black      1\n",
       "3         10092    male   165.5    79.4      right   31     white      0\n",
       "4         10093    male   191.4    94.6      right   21     black      1\n",
       "...         ...     ...     ...     ...        ...  ...       ...    ...\n",
       "6063      29501  female   168.7    83.2      right   51  hispanic      0\n",
       "6064      29502  female   161.3    71.7      right   40  hispanic      0\n",
       "6065      29503  female   164.4    76.2      right   40     black      0\n",
       "6066      29511  female   161.6    63.2      right   31  hispanic      0\n",
       "6067     920103  female   164.1    61.0      right   27  hispanic      0\n",
       "\n",
       "[6068 rows x 8 columns]"
      ]
     },
     "execution_count": 36,
     "metadata": {},
     "output_type": "execute_result"
    }
   ],
   "source": [
    "weight_df"
   ]
  },
  {
   "cell_type": "code",
   "execution_count": 37,
   "metadata": {},
   "outputs": [
    {
     "name": "stdout",
     "output_type": "stream",
     "text": [
      "Optimization terminated successfully.\n",
      "         Current function value: 0.414004\n",
      "         Iterations 8\n"
     ]
    }
   ],
   "source": [
    "results_glm = smf.logit('heavy ~ height + age + gender', data = weight_df).fit()"
   ]
  },
  {
   "cell_type": "code",
   "execution_count": 39,
   "metadata": {},
   "outputs": [
    {
     "name": "stdout",
     "output_type": "stream",
     "text": [
      "                           Logit Regression Results                           \n",
      "==============================================================================\n",
      "Dep. Variable:                  heavy   No. Observations:                 6068\n",
      "Model:                          Logit   Df Residuals:                     6064\n",
      "Method:                           MLE   Df Model:                            3\n",
      "Date:                Thu, 03 Dec 2020   Pseudo R-squ.:                  0.2538\n",
      "Time:                        16:31:01   Log-Likelihood:                -2512.2\n",
      "converged:                       True   LL-Null:                       -3366.5\n",
      "Covariance Type:            nonrobust   LLR p-value:                     0.000\n",
      "==================================================================================\n",
      "                     coef    std err          z      P>|z|      [0.025      0.975]\n",
      "----------------------------------------------------------------------------------\n",
      "Intercept        -27.6712      1.022    -27.075      0.000     -29.674     -25.668\n",
      "gender[T.male]     1.1942      0.142      8.421      0.000       0.916       1.472\n",
      "height             0.1372      0.006     23.345      0.000       0.126       0.149\n",
      "age                0.0532      0.004     13.486      0.000       0.045       0.061\n",
      "==================================================================================\n"
     ]
    }
   ],
   "source": [
    "print(results_glm.summary())"
   ]
  },
  {
   "cell_type": "code",
   "execution_count": 42,
   "metadata": {},
   "outputs": [
    {
     "data": {
      "text/plain": [
       "Intercept        -27.671171\n",
       "gender[T.male]     1.194198\n",
       "height             0.137195\n",
       "age                0.053184\n",
       "dtype: float64"
      ]
     },
     "execution_count": 42,
     "metadata": {},
     "output_type": "execute_result"
    }
   ],
   "source": [
    "results_glm.params"
   ]
  },
  {
   "cell_type": "code",
   "execution_count": 43,
   "metadata": {},
   "outputs": [
    {
     "data": {
      "text/plain": [
       "Intercept         1.936627e-161\n",
       "gender[T.male]     3.730542e-17\n",
       "height            1.549985e-120\n",
       "age                1.885654e-41\n",
       "dtype: float64"
      ]
     },
     "execution_count": 43,
     "metadata": {},
     "output_type": "execute_result"
    }
   ],
   "source": [
    "results_glm.pvalues"
   ]
  },
  {
   "cell_type": "markdown",
   "metadata": {},
   "source": [
    "## rpy2"
   ]
  },
  {
   "cell_type": "code",
   "execution_count": 44,
   "metadata": {},
   "outputs": [],
   "source": [
    "import rpy2"
   ]
  },
  {
   "cell_type": "code",
   "execution_count": 45,
   "metadata": {},
   "outputs": [],
   "source": [
    "from rpy2.robjects import pandas2ri"
   ]
  },
  {
   "cell_type": "code",
   "execution_count": null,
   "metadata": {},
   "outputs": [],
   "source": []
  }
 ],
 "metadata": {
  "kernelspec": {
   "display_name": "Python 3",
   "language": "python",
   "name": "python3"
  },
  "language_info": {
   "codemirror_mode": {
    "name": "ipython",
    "version": 3
   },
   "file_extension": ".py",
   "mimetype": "text/x-python",
   "name": "python",
   "nbconvert_exporter": "python",
   "pygments_lexer": "ipython3",
   "version": "3.8.6"
  }
 },
 "nbformat": 4,
 "nbformat_minor": 4
}
