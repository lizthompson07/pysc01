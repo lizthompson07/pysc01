{
 "cells": [
  {
   "cell_type": "markdown",
   "metadata": {},
   "source": [
    "## Numpy arrays v Python lists\n",
    "\n",
    "\n",
    "Create a numpy array of 10000 random numbers."
   ]
  },
  {
   "cell_type": "code",
   "execution_count": 1,
   "metadata": {},
   "outputs": [],
   "source": [
    "X = [1, 2, 3, 4, 5]"
   ]
  },
  {
   "cell_type": "code",
   "execution_count": 8,
   "metadata": {},
   "outputs": [],
   "source": [
    "x = 42"
   ]
  },
  {
   "cell_type": "code",
   "execution_count": null,
   "metadata": {},
   "outputs": [],
   "source": []
  },
  {
   "cell_type": "code",
   "execution_count": null,
   "metadata": {},
   "outputs": [],
   "source": [
    "sum(X)"
   ]
  },
  {
   "cell_type": "code",
   "execution_count": 3,
   "metadata": {},
   "outputs": [
    {
     "ename": "NameError",
     "evalue": "name 'mean' is not defined",
     "output_type": "error",
     "traceback": [
      "\u001b[0;31m---------------------------------------------------------------------------\u001b[0m",
      "\u001b[0;31mNameError\u001b[0m                                 Traceback (most recent call last)",
      "\u001b[0;32m<ipython-input-3-af968744c802>\u001b[0m in \u001b[0;36m<module>\u001b[0;34m\u001b[0m\n\u001b[0;32m----> 1\u001b[0;31m \u001b[0mmean\u001b[0m\u001b[0;34m(\u001b[0m\u001b[0mX\u001b[0m\u001b[0;34m)\u001b[0m\u001b[0;34m\u001b[0m\u001b[0;34m\u001b[0m\u001b[0m\n\u001b[0m",
      "\u001b[0;31mNameError\u001b[0m: name 'mean' is not defined"
     ]
    }
   ],
   "source": [
    "mean(X)"
   ]
  },
  {
   "cell_type": "code",
   "execution_count": 4,
   "metadata": {},
   "outputs": [
    {
     "ename": "NameError",
     "evalue": "name 'sd' is not defined",
     "output_type": "error",
     "traceback": [
      "\u001b[0;31m---------------------------------------------------------------------------\u001b[0m",
      "\u001b[0;31mNameError\u001b[0m                                 Traceback (most recent call last)",
      "\u001b[0;32m<ipython-input-4-44df7a7f8bba>\u001b[0m in \u001b[0;36m<module>\u001b[0;34m\u001b[0m\n\u001b[0;32m----> 1\u001b[0;31m \u001b[0msd\u001b[0m\u001b[0;34m(\u001b[0m\u001b[0mX\u001b[0m\u001b[0;34m)\u001b[0m\u001b[0;34m\u001b[0m\u001b[0;34m\u001b[0m\u001b[0m\n\u001b[0m",
      "\u001b[0;31mNameError\u001b[0m: name 'sd' is not defined"
     ]
    }
   ],
   "source": [
    "sd(X)"
   ]
  },
  {
   "cell_type": "code",
   "execution_count": 5,
   "metadata": {},
   "outputs": [],
   "source": [
    "import numpy "
   ]
  },
  {
   "cell_type": "code",
   "execution_count": 6,
   "metadata": {},
   "outputs": [],
   "source": [
    "import numpy as np"
   ]
  },
  {
   "cell_type": "code",
   "execution_count": 10,
   "metadata": {},
   "outputs": [],
   "source": [
    "x = np.random.rand(10000)"
   ]
  },
  {
   "cell_type": "code",
   "execution_count": 12,
   "metadata": {},
   "outputs": [],
   "source": [
    "x_list = list(x)"
   ]
  },
  {
   "cell_type": "code",
   "execution_count": 13,
   "metadata": {},
   "outputs": [
    {
     "data": {
      "text/plain": [
       "numpy.ndarray"
      ]
     },
     "execution_count": 13,
     "metadata": {},
     "output_type": "execute_result"
    }
   ],
   "source": [
    "type(x)"
   ]
  },
  {
   "cell_type": "code",
   "execution_count": 14,
   "metadata": {},
   "outputs": [
    {
     "data": {
      "text/plain": [
       "list"
      ]
     },
     "execution_count": 14,
     "metadata": {},
     "output_type": "execute_result"
    }
   ],
   "source": [
    "type(x_list)"
   ]
  },
  {
   "cell_type": "code",
   "execution_count": 15,
   "metadata": {},
   "outputs": [
    {
     "data": {
      "text/plain": [
       "5005.2596436225085"
      ]
     },
     "execution_count": 15,
     "metadata": {},
     "output_type": "execute_result"
    }
   ],
   "source": [
    "x.sum()"
   ]
  },
  {
   "cell_type": "code",
   "execution_count": 16,
   "metadata": {},
   "outputs": [
    {
     "data": {
      "text/plain": [
       "5005.2596436225085"
      ]
     },
     "execution_count": 16,
     "metadata": {},
     "output_type": "execute_result"
    }
   ],
   "source": [
    "np.sum(x)"
   ]
  },
  {
   "cell_type": "code",
   "execution_count": 17,
   "metadata": {},
   "outputs": [
    {
     "data": {
      "text/plain": [
       "5005.259643622486"
      ]
     },
     "execution_count": 17,
     "metadata": {},
     "output_type": "execute_result"
    }
   ],
   "source": [
    "sum(x_list)"
   ]
  },
  {
   "cell_type": "code",
   "execution_count": 18,
   "metadata": {},
   "outputs": [
    {
     "name": "stdout",
     "output_type": "stream",
     "text": [
      "3.7 µs ± 107 ns per loop (mean ± std. dev. of 7 runs, 100000 loops each)\n"
     ]
    }
   ],
   "source": [
    "%timeit x.sum()"
   ]
  },
  {
   "cell_type": "code",
   "execution_count": 19,
   "metadata": {},
   "outputs": [
    {
     "name": "stdout",
     "output_type": "stream",
     "text": [
      "805 µs ± 27 µs per loop (mean ± std. dev. of 7 runs, 1000 loops each)\n"
     ]
    }
   ],
   "source": [
    "%timeit sum(x_list)"
   ]
  },
  {
   "cell_type": "code",
   "execution_count": 20,
   "metadata": {},
   "outputs": [
    {
     "data": {
      "text/plain": [
       "218.1081081081081"
      ]
     },
     "execution_count": 20,
     "metadata": {},
     "output_type": "execute_result"
    }
   ],
   "source": [
    "807/3.7"
   ]
  },
  {
   "cell_type": "code",
   "execution_count": 22,
   "metadata": {},
   "outputs": [
    {
     "data": {
      "text/plain": [
       "16.666666666666668"
      ]
     },
     "execution_count": 22,
     "metadata": {},
     "output_type": "execute_result"
    }
   ],
   "source": [
    "(5 * 200)/60"
   ]
  },
  {
   "cell_type": "code",
   "execution_count": 23,
   "metadata": {},
   "outputs": [
    {
     "data": {
      "text/plain": [
       "4992"
      ]
     },
     "execution_count": 23,
     "metadata": {},
     "output_type": "execute_result"
    }
   ],
   "source": [
    "(x > .5).sum()"
   ]
  },
  {
   "cell_type": "markdown",
   "metadata": {},
   "source": [
    "## Operations on numpy arrays"
   ]
  },
  {
   "cell_type": "code",
   "execution_count": 24,
   "metadata": {},
   "outputs": [],
   "source": [
    "x = numpy.random.rand(10000)\n",
    "y = numpy.random.rand(10000)"
   ]
  },
  {
   "cell_type": "code",
   "execution_count": 27,
   "metadata": {},
   "outputs": [
    {
     "data": {
      "text/plain": [
       "array([0.48938154, 1.70488619, 0.94183998, ..., 1.64535589, 2.29581001,\n",
       "       0.5280383 ])"
      ]
     },
     "execution_count": 27,
     "metadata": {},
     "output_type": "execute_result"
    }
   ],
   "source": [
    "z = x + y\n",
    "x - y\n",
    "x * y\n",
    "x / y"
   ]
  },
  {
   "cell_type": "code",
   "execution_count": 28,
   "metadata": {},
   "outputs": [
    {
     "data": {
      "text/plain": [
       "array([2.38824255, 2.72582769, 2.63445064, ..., 2.79602859, 2.72264625,\n",
       "       2.51824152])"
      ]
     },
     "execution_count": 28,
     "metadata": {},
     "output_type": "execute_result"
    }
   ],
   "source": [
    "x + 2"
   ]
  },
  {
   "cell_type": "code",
   "execution_count": 29,
   "metadata": {},
   "outputs": [
    {
     "data": {
      "text/plain": [
       "array([-0.946125  , -0.32044264, -0.45499579, ..., -0.22812017,\n",
       "       -0.32483545, -0.6573139 ])"
      ]
     },
     "execution_count": 29,
     "metadata": {},
     "output_type": "execute_result"
    }
   ],
   "source": [
    "np.log(x)"
   ]
  },
  {
   "cell_type": "markdown",
   "metadata": {},
   "source": [
    "## Indexing and slicing"
   ]
  },
  {
   "cell_type": "code",
   "execution_count": 31,
   "metadata": {},
   "outputs": [
    {
     "data": {
      "text/plain": [
       "array([0.38824255, 0.72582769, 0.63445064, 0.6256456 , 0.9125765 ,\n",
       "       0.0957928 , 0.7226939 , 0.07630838, 0.75086434, 0.1990251 ])"
      ]
     },
     "execution_count": 31,
     "metadata": {},
     "output_type": "execute_result"
    }
   ],
   "source": [
    "x[:10]"
   ]
  },
  {
   "cell_type": "code",
   "execution_count": 33,
   "metadata": {},
   "outputs": [
    {
     "data": {
      "text/plain": [
       "array([0.38824255, 0.72582769])"
      ]
     },
     "execution_count": 33,
     "metadata": {},
     "output_type": "execute_result"
    }
   ],
   "source": [
    "x[0:2]"
   ]
  },
  {
   "cell_type": "code",
   "execution_count": 34,
   "metadata": {},
   "outputs": [
    {
     "data": {
      "text/plain": [
       "array([0.38824255, 0.72582769])"
      ]
     },
     "execution_count": 34,
     "metadata": {},
     "output_type": "execute_result"
    }
   ],
   "source": [
    "x[:2]"
   ]
  },
  {
   "cell_type": "code",
   "execution_count": 35,
   "metadata": {},
   "outputs": [
    {
     "data": {
      "text/plain": [
       "array([0.38824255, 0.72582769, 0.63445064, 0.6256456 , 0.9125765 ,\n",
       "       0.0957928 , 0.7226939 , 0.07630838, 0.75086434, 0.1990251 ])"
      ]
     },
     "execution_count": 35,
     "metadata": {},
     "output_type": "execute_result"
    }
   ],
   "source": [
    "x[:10]"
   ]
  },
  {
   "cell_type": "code",
   "execution_count": 36,
   "metadata": {},
   "outputs": [
    {
     "data": {
      "text/plain": [
       "array([0.38824255, 0.72582769, 0.63445064, 0.6256456 , 0.9125765 ,\n",
       "       0.0957928 , 0.7226939 , 0.07630838, 0.75086434, 0.1990251 ])"
      ]
     },
     "execution_count": 36,
     "metadata": {},
     "output_type": "execute_result"
    }
   ],
   "source": [
    "x[0:10]"
   ]
  },
  {
   "cell_type": "code",
   "execution_count": 37,
   "metadata": {},
   "outputs": [
    {
     "data": {
      "text/plain": [
       "array([0.38824255, 0.63445064, 0.9125765 , 0.7226939 , 0.75086434])"
      ]
     },
     "execution_count": 37,
     "metadata": {},
     "output_type": "execute_result"
    }
   ],
   "source": [
    "x[0:10:2]"
   ]
  },
  {
   "cell_type": "code",
   "execution_count": 38,
   "metadata": {},
   "outputs": [
    {
     "data": {
      "text/plain": [
       "array([0.38824255, 0.63445064, 0.9125765 , 0.7226939 , 0.75086434])"
      ]
     },
     "execution_count": 38,
     "metadata": {},
     "output_type": "execute_result"
    }
   ],
   "source": [
    "x[:10:2]"
   ]
  },
  {
   "cell_type": "code",
   "execution_count": 39,
   "metadata": {},
   "outputs": [
    {
     "data": {
      "text/plain": [
       "array([0.38824255, 0.72582769, 0.63445064, 0.6256456 , 0.9125765 ,\n",
       "       0.0957928 , 0.7226939 , 0.07630838, 0.75086434, 0.1990251 ])"
      ]
     },
     "execution_count": 39,
     "metadata": {},
     "output_type": "execute_result"
    }
   ],
   "source": [
    "x[:10]"
   ]
  },
  {
   "cell_type": "code",
   "execution_count": 40,
   "metadata": {},
   "outputs": [
    {
     "data": {
      "text/plain": [
       "array([0.38824255, 0.72582769, 0.63445064, 0.6256456 , 0.9125765 ,\n",
       "       0.0957928 , 0.7226939 , 0.07630838, 0.75086434, 0.1990251 ])"
      ]
     },
     "execution_count": 40,
     "metadata": {},
     "output_type": "execute_result"
    }
   ],
   "source": [
    "x[:10:1]"
   ]
  },
  {
   "cell_type": "code",
   "execution_count": 41,
   "metadata": {},
   "outputs": [
    {
     "data": {
      "text/plain": [
       "array([0.28753341, 0.49967163, 0.76608519, ..., 0.79602859, 0.72264625,\n",
       "       0.51824152])"
      ]
     },
     "execution_count": 41,
     "metadata": {},
     "output_type": "execute_result"
    }
   ],
   "source": [
    "x[10:]"
   ]
  },
  {
   "cell_type": "code",
   "execution_count": 42,
   "metadata": {},
   "outputs": [
    {
     "data": {
      "text/plain": [
       "array([0.28753341, 0.76608519, 0.79694755, ..., 0.28689421, 0.59793855,\n",
       "       0.72264625])"
      ]
     },
     "execution_count": 42,
     "metadata": {},
     "output_type": "execute_result"
    }
   ],
   "source": [
    "x[10::2]"
   ]
  },
  {
   "cell_type": "code",
   "execution_count": 45,
   "metadata": {},
   "outputs": [
    {
     "data": {
      "text/plain": [
       "49.31304377120393"
      ]
     },
     "execution_count": 45,
     "metadata": {},
     "output_type": "execute_result"
    }
   ],
   "source": [
    "x[::100].sum()"
   ]
  },
  {
   "cell_type": "code",
   "execution_count": 46,
   "metadata": {},
   "outputs": [
    {
     "data": {
      "text/plain": [
       "0.18238713469155454"
      ]
     },
     "execution_count": 46,
     "metadata": {},
     "output_type": "execute_result"
    }
   ],
   "source": [
    "x[1200]"
   ]
  },
  {
   "cell_type": "code",
   "execution_count": 48,
   "metadata": {},
   "outputs": [
    {
     "data": {
      "text/plain": [
       "array([0.28753341, 0.69572191])"
      ]
     },
     "execution_count": 48,
     "metadata": {},
     "output_type": "execute_result"
    }
   ],
   "source": [
    "x[[10,110]]"
   ]
  },
  {
   "cell_type": "markdown",
   "metadata": {},
   "source": [
    "## Create numpy arrays"
   ]
  },
  {
   "cell_type": "code",
   "execution_count": 49,
   "metadata": {},
   "outputs": [],
   "source": [
    "x = np.random.rand(3, 5)"
   ]
  },
  {
   "cell_type": "code",
   "execution_count": 50,
   "metadata": {},
   "outputs": [
    {
     "data": {
      "text/plain": [
       "array([[0.02025212, 0.013981  , 0.9019091 , 0.94206665, 0.82632327],\n",
       "       [0.96364759, 0.01531872, 0.47047406, 0.76368463, 0.94045645],\n",
       "       [0.00101273, 0.77650934, 0.0210274 , 0.04760398, 0.4822329 ]])"
      ]
     },
     "execution_count": 50,
     "metadata": {},
     "output_type": "execute_result"
    }
   ],
   "source": [
    "x"
   ]
  },
  {
   "cell_type": "code",
   "execution_count": 51,
   "metadata": {},
   "outputs": [
    {
     "data": {
      "text/plain": [
       "(3, 5)"
      ]
     },
     "execution_count": 51,
     "metadata": {},
     "output_type": "execute_result"
    }
   ],
   "source": [
    "x.shape"
   ]
  },
  {
   "cell_type": "code",
   "execution_count": 52,
   "metadata": {},
   "outputs": [
    {
     "data": {
      "text/plain": [
       "15"
      ]
     },
     "execution_count": 52,
     "metadata": {},
     "output_type": "execute_result"
    }
   ],
   "source": [
    "x.size"
   ]
  },
  {
   "cell_type": "code",
   "execution_count": 53,
   "metadata": {},
   "outputs": [],
   "source": [
    "x = np.random.rand(3, 5, 2)"
   ]
  },
  {
   "cell_type": "code",
   "execution_count": 54,
   "metadata": {},
   "outputs": [
    {
     "data": {
      "text/plain": [
       "(3, 5, 2)"
      ]
     },
     "execution_count": 54,
     "metadata": {},
     "output_type": "execute_result"
    }
   ],
   "source": [
    "x.shape"
   ]
  },
  {
   "cell_type": "code",
   "execution_count": 55,
   "metadata": {},
   "outputs": [
    {
     "data": {
      "text/plain": [
       "array([[[0.80500384, 0.81531513],\n",
       "        [0.3446153 , 0.09683275],\n",
       "        [0.9838458 , 0.14998268],\n",
       "        [0.48936948, 0.79382951],\n",
       "        [0.35874567, 0.52763154]],\n",
       "\n",
       "       [[0.21534834, 0.04581728],\n",
       "        [0.08574044, 0.45628496],\n",
       "        [0.51019409, 0.86603596],\n",
       "        [0.34391949, 0.9186883 ],\n",
       "        [0.34228328, 0.63141904]],\n",
       "\n",
       "       [[0.30903425, 0.37191207],\n",
       "        [0.29637624, 0.52358613],\n",
       "        [0.75300186, 0.54359662],\n",
       "        [0.59372962, 0.75033985],\n",
       "        [0.48763642, 0.54843892]]])"
      ]
     },
     "execution_count": 55,
     "metadata": {},
     "output_type": "execute_result"
    }
   ],
   "source": [
    "x"
   ]
  },
  {
   "cell_type": "code",
   "execution_count": 56,
   "metadata": {},
   "outputs": [],
   "source": [
    "x = np.random.rand(1000)"
   ]
  },
  {
   "cell_type": "code",
   "execution_count": 57,
   "metadata": {},
   "outputs": [
    {
     "data": {
      "text/plain": [
       "(1000,)"
      ]
     },
     "execution_count": 57,
     "metadata": {},
     "output_type": "execute_result"
    }
   ],
   "source": [
    "x.shape"
   ]
  },
  {
   "cell_type": "code",
   "execution_count": 58,
   "metadata": {},
   "outputs": [],
   "source": [
    "x = 42"
   ]
  },
  {
   "cell_type": "code",
   "execution_count": 59,
   "metadata": {},
   "outputs": [
    {
     "data": {
      "text/plain": [
       "int"
      ]
     },
     "execution_count": 59,
     "metadata": {},
     "output_type": "execute_result"
    }
   ],
   "source": [
    "type(x)"
   ]
  },
  {
   "cell_type": "code",
   "execution_count": 61,
   "metadata": {},
   "outputs": [
    {
     "data": {
      "text/plain": [
       "(42,)"
      ]
     },
     "execution_count": 61,
     "metadata": {},
     "output_type": "execute_result"
    }
   ],
   "source": [
    "(x,)"
   ]
  },
  {
   "cell_type": "code",
   "execution_count": 65,
   "metadata": {},
   "outputs": [
    {
     "data": {
      "text/plain": [
       "array([[1.13553475e-313, 0.00000000e+000],\n",
       "       [0.00000000e+000, 0.00000000e+000],\n",
       "       [0.00000000e+000, 5.30276956e+180],\n",
       "       [1.57076922e-076, 4.57222315e-071],\n",
       "       [5.06557763e-086, 3.35910089e-143],\n",
       "       [6.01433264e+175, 6.93885958e+218],\n",
       "       [5.56218858e+180, 3.94356143e+180],\n",
       "       [2.48357131e+184, 6.07727855e-067],\n",
       "       [8.23039567e-071, 1.34972584e+161],\n",
       "       [5.19715252e-144, 1.50008929e+248]])"
      ]
     },
     "execution_count": 65,
     "metadata": {},
     "output_type": "execute_result"
    }
   ],
   "source": [
    "np.empty((10, 2))"
   ]
  },
  {
   "cell_type": "code",
   "execution_count": 68,
   "metadata": {},
   "outputs": [
    {
     "data": {
      "text/plain": [
       "array([[42, 42],\n",
       "       [42, 42],\n",
       "       [42, 42],\n",
       "       [42, 42],\n",
       "       [42, 42],\n",
       "       [42, 42],\n",
       "       [42, 42],\n",
       "       [42, 42],\n",
       "       [42, 42],\n",
       "       [42, 42]])"
      ]
     },
     "execution_count": 68,
     "metadata": {},
     "output_type": "execute_result"
    }
   ],
   "source": [
    "np.full((10, 2), 42)"
   ]
  },
  {
   "cell_type": "code",
   "execution_count": 69,
   "metadata": {},
   "outputs": [
    {
     "data": {
      "text/plain": [
       "array([[1., 1.],\n",
       "       [1., 1.],\n",
       "       [1., 1.],\n",
       "       [1., 1.],\n",
       "       [1., 1.],\n",
       "       [1., 1.],\n",
       "       [1., 1.],\n",
       "       [1., 1.],\n",
       "       [1., 1.],\n",
       "       [1., 1.]])"
      ]
     },
     "execution_count": 69,
     "metadata": {},
     "output_type": "execute_result"
    }
   ],
   "source": [
    "np.ones((10, 2))"
   ]
  },
  {
   "cell_type": "code",
   "execution_count": 70,
   "metadata": {},
   "outputs": [
    {
     "data": {
      "text/plain": [
       "array([[0., 0.],\n",
       "       [0., 0.],\n",
       "       [0., 0.],\n",
       "       [0., 0.],\n",
       "       [0., 0.],\n",
       "       [0., 0.],\n",
       "       [0., 0.],\n",
       "       [0., 0.],\n",
       "       [0., 0.],\n",
       "       [0., 0.]])"
      ]
     },
     "execution_count": 70,
     "metadata": {},
     "output_type": "execute_result"
    }
   ],
   "source": [
    "np.zeros((10, 2))"
   ]
  },
  {
   "cell_type": "code",
   "execution_count": 71,
   "metadata": {},
   "outputs": [
    {
     "data": {
      "text/plain": [
       "array([0.        , 0.02040816, 0.04081633, 0.06122449, 0.08163265,\n",
       "       0.10204082, 0.12244898, 0.14285714, 0.16326531, 0.18367347,\n",
       "       0.20408163, 0.2244898 , 0.24489796, 0.26530612, 0.28571429,\n",
       "       0.30612245, 0.32653061, 0.34693878, 0.36734694, 0.3877551 ,\n",
       "       0.40816327, 0.42857143, 0.44897959, 0.46938776, 0.48979592,\n",
       "       0.51020408, 0.53061224, 0.55102041, 0.57142857, 0.59183673,\n",
       "       0.6122449 , 0.63265306, 0.65306122, 0.67346939, 0.69387755,\n",
       "       0.71428571, 0.73469388, 0.75510204, 0.7755102 , 0.79591837,\n",
       "       0.81632653, 0.83673469, 0.85714286, 0.87755102, 0.89795918,\n",
       "       0.91836735, 0.93877551, 0.95918367, 0.97959184, 1.        ])"
      ]
     },
     "execution_count": 71,
     "metadata": {},
     "output_type": "execute_result"
    }
   ],
   "source": [
    "np.linspace(0, 1, 50)"
   ]
  },
  {
   "cell_type": "code",
   "execution_count": 72,
   "metadata": {},
   "outputs": [],
   "source": [
    "x = [1, 2, 3]"
   ]
  },
  {
   "cell_type": "code",
   "execution_count": 74,
   "metadata": {},
   "outputs": [],
   "source": [
    "x = np.array([1, 2, 3])"
   ]
  },
  {
   "cell_type": "code",
   "execution_count": 75,
   "metadata": {},
   "outputs": [
    {
     "data": {
      "text/plain": [
       "array([1, 2, 3])"
      ]
     },
     "execution_count": 75,
     "metadata": {},
     "output_type": "execute_result"
    }
   ],
   "source": [
    "x"
   ]
  },
  {
   "cell_type": "markdown",
   "metadata": {},
   "source": [
    "## Numpy data types"
   ]
  },
  {
   "cell_type": "code",
   "execution_count": 76,
   "metadata": {},
   "outputs": [],
   "source": [
    "x = np.array([1, 2, 3])"
   ]
  },
  {
   "cell_type": "code",
   "execution_count": 77,
   "metadata": {},
   "outputs": [
    {
     "data": {
      "text/plain": [
       "dtype('int64')"
      ]
     },
     "execution_count": 77,
     "metadata": {},
     "output_type": "execute_result"
    }
   ],
   "source": [
    "x.dtype"
   ]
  },
  {
   "cell_type": "code",
   "execution_count": 78,
   "metadata": {},
   "outputs": [
    {
     "data": {
      "text/plain": [
       "numpy.ndarray"
      ]
     },
     "execution_count": 78,
     "metadata": {},
     "output_type": "execute_result"
    }
   ],
   "source": [
    "type(x)"
   ]
  },
  {
   "cell_type": "code",
   "execution_count": 79,
   "metadata": {},
   "outputs": [
    {
     "data": {
      "text/plain": [
       "list"
      ]
     },
     "execution_count": 79,
     "metadata": {},
     "output_type": "execute_result"
    }
   ],
   "source": [
    "type([1, 2, 3])"
   ]
  },
  {
   "cell_type": "code",
   "execution_count": 80,
   "metadata": {},
   "outputs": [],
   "source": [
    "x = np.array([1, 2, 3], dtype = np.int8)"
   ]
  },
  {
   "cell_type": "code",
   "execution_count": 81,
   "metadata": {},
   "outputs": [
    {
     "data": {
      "text/plain": [
       "array([1, 2, 3], dtype=int8)"
      ]
     },
     "execution_count": 81,
     "metadata": {},
     "output_type": "execute_result"
    }
   ],
   "source": [
    "x"
   ]
  },
  {
   "cell_type": "code",
   "execution_count": 82,
   "metadata": {},
   "outputs": [
    {
     "data": {
      "text/plain": [
       "dtype('int8')"
      ]
     },
     "execution_count": 82,
     "metadata": {},
     "output_type": "execute_result"
    }
   ],
   "source": [
    "x.dtype"
   ]
  },
  {
   "cell_type": "code",
   "execution_count": 83,
   "metadata": {},
   "outputs": [],
   "source": [
    "x = np.random.rand(10)"
   ]
  },
  {
   "cell_type": "code",
   "execution_count": 84,
   "metadata": {},
   "outputs": [
    {
     "data": {
      "text/plain": [
       "array([0.29413519, 0.55022663, 0.86585997, 0.30770853, 0.76781319,\n",
       "       0.68123873, 0.73149249, 0.93311124, 0.21801967, 0.71917182])"
      ]
     },
     "execution_count": 84,
     "metadata": {},
     "output_type": "execute_result"
    }
   ],
   "source": [
    "x"
   ]
  },
  {
   "cell_type": "code",
   "execution_count": 85,
   "metadata": {},
   "outputs": [
    {
     "data": {
      "text/plain": [
       "dtype('float64')"
      ]
     },
     "execution_count": 85,
     "metadata": {},
     "output_type": "execute_result"
    }
   ],
   "source": [
    "x.dtype"
   ]
  },
  {
   "cell_type": "code",
   "execution_count": 86,
   "metadata": {},
   "outputs": [],
   "source": [
    "%rep 83"
   ]
  },
  {
   "cell_type": "code",
   "execution_count": 88,
   "metadata": {},
   "outputs": [],
   "source": [
    "x = np.array([1, 2, 3], dtype = np.float128)"
   ]
  },
  {
   "cell_type": "code",
   "execution_count": 89,
   "metadata": {},
   "outputs": [
    {
     "data": {
      "text/plain": [
       "dtype('float128')"
      ]
     },
     "execution_count": 89,
     "metadata": {},
     "output_type": "execute_result"
    }
   ],
   "source": [
    "x.dtype"
   ]
  },
  {
   "cell_type": "code",
   "execution_count": 90,
   "metadata": {},
   "outputs": [
    {
     "data": {
      "text/plain": [
       "array([1., 2., 3.], dtype=float128)"
      ]
     },
     "execution_count": 90,
     "metadata": {},
     "output_type": "execute_result"
    }
   ],
   "source": [
    "x"
   ]
  },
  {
   "cell_type": "code",
   "execution_count": 94,
   "metadata": {},
   "outputs": [],
   "source": [
    "x = np.array([1, 0, 1, 0, 1], dtype = np.bool)"
   ]
  },
  {
   "cell_type": "code",
   "execution_count": 95,
   "metadata": {},
   "outputs": [
    {
     "data": {
      "text/plain": [
       "array([ True, False,  True, False,  True])"
      ]
     },
     "execution_count": 95,
     "metadata": {},
     "output_type": "execute_result"
    }
   ],
   "source": [
    "x"
   ]
  },
  {
   "cell_type": "code",
   "execution_count": 93,
   "metadata": {},
   "outputs": [
    {
     "data": {
      "text/plain": [
       "dtype('int64')"
      ]
     },
     "execution_count": 93,
     "metadata": {},
     "output_type": "execute_result"
    }
   ],
   "source": [
    "x.dtype"
   ]
  },
  {
   "cell_type": "code",
   "execution_count": 96,
   "metadata": {},
   "outputs": [],
   "source": [
    "%rep 94"
   ]
  },
  {
   "cell_type": "code",
   "execution_count": 102,
   "metadata": {},
   "outputs": [],
   "source": [
    "x = np.array([1, 0, 1, 0, 1])"
   ]
  },
  {
   "cell_type": "code",
   "execution_count": 98,
   "metadata": {},
   "outputs": [],
   "source": [
    "x.dtype = np.bool"
   ]
  },
  {
   "cell_type": "code",
   "execution_count": 103,
   "metadata": {},
   "outputs": [
    {
     "data": {
      "text/plain": [
       "array([1, 0, 1, 0, 1])"
      ]
     },
     "execution_count": 103,
     "metadata": {},
     "output_type": "execute_result"
    }
   ],
   "source": [
    "x"
   ]
  },
  {
   "cell_type": "code",
   "execution_count": 104,
   "metadata": {},
   "outputs": [
    {
     "data": {
      "text/plain": [
       "array([1, 0, 1, 0, 1])"
      ]
     },
     "execution_count": 104,
     "metadata": {},
     "output_type": "execute_result"
    }
   ],
   "source": [
    "x"
   ]
  },
  {
   "cell_type": "markdown",
   "metadata": {},
   "source": [
    "## Reshaping arrays"
   ]
  },
  {
   "cell_type": "code",
   "execution_count": 107,
   "metadata": {},
   "outputs": [],
   "source": [
    "x = np.random.rand(10, 5)"
   ]
  },
  {
   "cell_type": "code",
   "execution_count": 108,
   "metadata": {},
   "outputs": [
    {
     "data": {
      "text/plain": [
       "(10, 5)"
      ]
     },
     "execution_count": 108,
     "metadata": {},
     "output_type": "execute_result"
    }
   ],
   "source": [
    "x.shape"
   ]
  },
  {
   "cell_type": "code",
   "execution_count": 109,
   "metadata": {},
   "outputs": [
    {
     "data": {
      "text/plain": [
       "array([[0.34194824, 0.65604685],\n",
       "       [0.3552232 , 0.98047157],\n",
       "       [0.06744912, 0.40580879],\n",
       "       [0.79652155, 0.88452743],\n",
       "       [0.16020086, 0.71235384],\n",
       "       [0.12161899, 0.51492329],\n",
       "       [0.24479173, 0.13210059],\n",
       "       [0.31322015, 0.59222997],\n",
       "       [0.88448109, 0.35601279],\n",
       "       [0.01305915, 0.00524033],\n",
       "       [0.58487192, 0.73637899],\n",
       "       [0.6493385 , 0.30396422],\n",
       "       [0.05997882, 0.40364687],\n",
       "       [0.81172281, 0.67501858],\n",
       "       [0.49454516, 0.79851958],\n",
       "       [0.92610625, 0.104666  ],\n",
       "       [0.89273077, 0.3003011 ],\n",
       "       [0.05197847, 0.09239899],\n",
       "       [0.84119636, 0.56410686],\n",
       "       [0.78566087, 0.06903019],\n",
       "       [0.244288  , 0.83493001],\n",
       "       [0.80551993, 0.64882826],\n",
       "       [0.37007163, 0.45381114],\n",
       "       [0.88031383, 0.79158669],\n",
       "       [0.9671576 , 0.99862126]])"
      ]
     },
     "execution_count": 109,
     "metadata": {},
     "output_type": "execute_result"
    }
   ],
   "source": [
    "x.reshape((25, 2))"
   ]
  },
  {
   "cell_type": "code",
   "execution_count": 110,
   "metadata": {},
   "outputs": [
    {
     "data": {
      "text/plain": [
       "array([[0.34194824, 0.65604685, 0.3552232 , 0.98047157, 0.06744912],\n",
       "       [0.40580879, 0.79652155, 0.88452743, 0.16020086, 0.71235384],\n",
       "       [0.12161899, 0.51492329, 0.24479173, 0.13210059, 0.31322015],\n",
       "       [0.59222997, 0.88448109, 0.35601279, 0.01305915, 0.00524033],\n",
       "       [0.58487192, 0.73637899, 0.6493385 , 0.30396422, 0.05997882],\n",
       "       [0.40364687, 0.81172281, 0.67501858, 0.49454516, 0.79851958],\n",
       "       [0.92610625, 0.104666  , 0.89273077, 0.3003011 , 0.05197847],\n",
       "       [0.09239899, 0.84119636, 0.56410686, 0.78566087, 0.06903019],\n",
       "       [0.244288  , 0.83493001, 0.80551993, 0.64882826, 0.37007163],\n",
       "       [0.45381114, 0.88031383, 0.79158669, 0.9671576 , 0.99862126]])"
      ]
     },
     "execution_count": 110,
     "metadata": {},
     "output_type": "execute_result"
    }
   ],
   "source": [
    "x"
   ]
  },
  {
   "cell_type": "code",
   "execution_count": 111,
   "metadata": {},
   "outputs": [
    {
     "data": {
      "text/plain": [
       "array([[[0.34194824, 0.65604685, 0.3552232 , 0.98047157, 0.06744912],\n",
       "        [0.40580879, 0.79652155, 0.88452743, 0.16020086, 0.71235384]],\n",
       "\n",
       "       [[0.12161899, 0.51492329, 0.24479173, 0.13210059, 0.31322015],\n",
       "        [0.59222997, 0.88448109, 0.35601279, 0.01305915, 0.00524033]],\n",
       "\n",
       "       [[0.58487192, 0.73637899, 0.6493385 , 0.30396422, 0.05997882],\n",
       "        [0.40364687, 0.81172281, 0.67501858, 0.49454516, 0.79851958]],\n",
       "\n",
       "       [[0.92610625, 0.104666  , 0.89273077, 0.3003011 , 0.05197847],\n",
       "        [0.09239899, 0.84119636, 0.56410686, 0.78566087, 0.06903019]],\n",
       "\n",
       "       [[0.244288  , 0.83493001, 0.80551993, 0.64882826, 0.37007163],\n",
       "        [0.45381114, 0.88031383, 0.79158669, 0.9671576 , 0.99862126]]])"
      ]
     },
     "execution_count": 111,
     "metadata": {},
     "output_type": "execute_result"
    }
   ],
   "source": [
    "x.reshape((5, 2, 5))"
   ]
  },
  {
   "cell_type": "code",
   "execution_count": 113,
   "metadata": {},
   "outputs": [
    {
     "data": {
      "text/plain": [
       "array([[0.34194824, 0.40580879, 0.12161899, 0.59222997, 0.58487192,\n",
       "        0.40364687, 0.92610625, 0.09239899, 0.244288  , 0.45381114],\n",
       "       [0.65604685, 0.79652155, 0.51492329, 0.88448109, 0.73637899,\n",
       "        0.81172281, 0.104666  , 0.84119636, 0.83493001, 0.88031383],\n",
       "       [0.3552232 , 0.88452743, 0.24479173, 0.35601279, 0.6493385 ,\n",
       "        0.67501858, 0.89273077, 0.56410686, 0.80551993, 0.79158669],\n",
       "       [0.98047157, 0.16020086, 0.13210059, 0.01305915, 0.30396422,\n",
       "        0.49454516, 0.3003011 , 0.78566087, 0.64882826, 0.9671576 ],\n",
       "       [0.06744912, 0.71235384, 0.31322015, 0.00524033, 0.05997882,\n",
       "        0.79851958, 0.05197847, 0.06903019, 0.37007163, 0.99862126]])"
      ]
     },
     "execution_count": 113,
     "metadata": {},
     "output_type": "execute_result"
    }
   ],
   "source": [
    "x.T"
   ]
  },
  {
   "cell_type": "code",
   "execution_count": 114,
   "metadata": {},
   "outputs": [
    {
     "data": {
      "text/plain": [
       "(10, 5)"
      ]
     },
     "execution_count": 114,
     "metadata": {},
     "output_type": "execute_result"
    }
   ],
   "source": [
    "x.shape"
   ]
  },
  {
   "cell_type": "code",
   "execution_count": 115,
   "metadata": {},
   "outputs": [
    {
     "data": {
      "text/plain": [
       "(5, 10)"
      ]
     },
     "execution_count": 115,
     "metadata": {},
     "output_type": "execute_result"
    }
   ],
   "source": [
    "x.T.shape"
   ]
  },
  {
   "cell_type": "code",
   "execution_count": 118,
   "metadata": {},
   "outputs": [],
   "source": [
    "y = x.reshape((5, 5, 2))"
   ]
  },
  {
   "cell_type": "code",
   "execution_count": 121,
   "metadata": {},
   "outputs": [
    {
     "data": {
      "text/plain": [
       "array([0.34194824, 0.65604685, 0.3552232 , 0.98047157, 0.06744912,\n",
       "       0.40580879, 0.79652155, 0.88452743, 0.16020086, 0.71235384,\n",
       "       0.12161899, 0.51492329, 0.24479173, 0.13210059, 0.31322015,\n",
       "       0.59222997, 0.88448109, 0.35601279, 0.01305915, 0.00524033,\n",
       "       0.58487192, 0.73637899, 0.6493385 , 0.30396422, 0.05997882,\n",
       "       0.40364687, 0.81172281, 0.67501858, 0.49454516, 0.79851958,\n",
       "       0.92610625, 0.104666  , 0.89273077, 0.3003011 , 0.05197847,\n",
       "       0.09239899, 0.84119636, 0.56410686, 0.78566087, 0.06903019,\n",
       "       0.244288  , 0.83493001, 0.80551993, 0.64882826, 0.37007163,\n",
       "       0.45381114, 0.88031383, 0.79158669, 0.9671576 , 0.99862126])"
      ]
     },
     "execution_count": 121,
     "metadata": {},
     "output_type": "execute_result"
    }
   ],
   "source": [
    "y.flatten()"
   ]
  },
  {
   "cell_type": "code",
   "execution_count": 123,
   "metadata": {},
   "outputs": [
    {
     "data": {
      "text/plain": [
       "(50,)"
      ]
     },
     "execution_count": 123,
     "metadata": {},
     "output_type": "execute_result"
    }
   ],
   "source": [
    "y.flatten().shape"
   ]
  },
  {
   "cell_type": "markdown",
   "metadata": {},
   "source": [
    "## More on operations"
   ]
  },
  {
   "cell_type": "code",
   "execution_count": 124,
   "metadata": {},
   "outputs": [],
   "source": [
    "y = np.random.rand(10)\n"
   ]
  },
  {
   "cell_type": "code",
   "execution_count": 126,
   "metadata": {},
   "outputs": [
    {
     "data": {
      "text/plain": [
       "array([0.8987414 , 0.28153093, 0.79133586, 0.43545318, 0.90244206,\n",
       "       0.5912478 , 0.18537188, 0.99855869, 0.54956445, 0.98294782])"
      ]
     },
     "execution_count": 126,
     "metadata": {},
     "output_type": "execute_result"
    }
   ],
   "source": [
    "y"
   ]
  },
  {
   "cell_type": "code",
   "execution_count": 127,
   "metadata": {},
   "outputs": [],
   "source": [
    "y.sort()"
   ]
  },
  {
   "cell_type": "code",
   "execution_count": 128,
   "metadata": {},
   "outputs": [
    {
     "data": {
      "text/plain": [
       "array([0.18537188, 0.28153093, 0.43545318, 0.54956445, 0.5912478 ,\n",
       "       0.79133586, 0.8987414 , 0.90244206, 0.98294782, 0.99855869])"
      ]
     },
     "execution_count": 128,
     "metadata": {},
     "output_type": "execute_result"
    }
   ],
   "source": [
    "y"
   ]
  },
  {
   "cell_type": "code",
   "execution_count": 129,
   "metadata": {},
   "outputs": [],
   "source": [
    "?y.sort\n"
   ]
  },
  {
   "cell_type": "code",
   "execution_count": 130,
   "metadata": {},
   "outputs": [
    {
     "data": {
      "text/plain": [
       "array([0.18537188, 0.28153093, 0.43545318, 0.54956445, 0.5912478 ,\n",
       "       0.79133586, 0.8987414 , 0.90244206, 0.98294782, 0.99855869])"
      ]
     },
     "execution_count": 130,
     "metadata": {},
     "output_type": "execute_result"
    }
   ],
   "source": [
    "y"
   ]
  },
  {
   "cell_type": "code",
   "execution_count": 131,
   "metadata": {},
   "outputs": [],
   "source": [
    "y = np.random.rand(10)"
   ]
  },
  {
   "cell_type": "code",
   "execution_count": 132,
   "metadata": {},
   "outputs": [
    {
     "data": {
      "text/plain": [
       "array([0.85464426, 0.56454074, 0.64574772, 0.97600953, 0.70911277,\n",
       "       0.69029939, 0.12703812, 0.80806447, 0.39132706, 0.43888236])"
      ]
     },
     "execution_count": 132,
     "metadata": {},
     "output_type": "execute_result"
    }
   ],
   "source": [
    "\n",
    "y"
   ]
  },
  {
   "cell_type": "code",
   "execution_count": 133,
   "metadata": {},
   "outputs": [],
   "source": [
    "y.sort()"
   ]
  },
  {
   "cell_type": "code",
   "execution_count": 136,
   "metadata": {},
   "outputs": [
    {
     "data": {
      "text/plain": [
       "array([0.97600953, 0.85464426, 0.80806447, 0.70911277, 0.69029939,\n",
       "       0.64574772, 0.56454074, 0.43888236, 0.39132706, 0.12703812])"
      ]
     },
     "execution_count": 136,
     "metadata": {},
     "output_type": "execute_result"
    }
   ],
   "source": [
    "np.flipud(y)"
   ]
  },
  {
   "cell_type": "code",
   "execution_count": 140,
   "metadata": {},
   "outputs": [],
   "source": [
    "x = np.random.rand(10, 5)"
   ]
  },
  {
   "cell_type": "code",
   "execution_count": 141,
   "metadata": {},
   "outputs": [
    {
     "data": {
      "text/plain": [
       "array([[0.64770735, 0.17915517, 0.46270874, 0.30452717, 0.95829241],\n",
       "       [0.74897924, 0.9346415 , 0.94991172, 0.84383522, 0.87292258],\n",
       "       [0.5692569 , 0.84442502, 0.85696244, 0.31155415, 0.50012774],\n",
       "       [0.97123707, 0.85159962, 0.44766406, 0.8723886 , 0.23067119],\n",
       "       [0.75446097, 0.84439945, 0.38066791, 0.64580003, 0.89867403],\n",
       "       [0.81342548, 0.4954956 , 0.82984751, 0.32990021, 0.43192302],\n",
       "       [0.7083111 , 0.54272873, 0.48841959, 0.93899834, 0.99932635],\n",
       "       [0.88989807, 0.47626405, 0.26031139, 0.89202271, 0.43095132],\n",
       "       [0.14847266, 0.84742142, 0.98877215, 0.59015038, 0.56825083],\n",
       "       [0.67733417, 0.42589251, 0.65401028, 0.25492032, 0.9248589 ]])"
      ]
     },
     "execution_count": 141,
     "metadata": {},
     "output_type": "execute_result"
    }
   ],
   "source": [
    "x"
   ]
  },
  {
   "cell_type": "code",
   "execution_count": 142,
   "metadata": {},
   "outputs": [
    {
     "data": {
      "text/plain": [
       "array([[0.64770735, 0.17915517, 0.46270874, 0.30452717, 0.95829241],\n",
       "       [0.74897924, 0.9346415 , 0.94991172, 0.84383522, 0.87292258],\n",
       "       [0.5692569 , 0.84442502, 0.85696244, 0.31155415, 0.50012774],\n",
       "       [0.97123707, 0.85159962, 0.44766406, 0.8723886 , 0.23067119],\n",
       "       [0.75446097, 0.84439945, 0.38066791, 0.64580003, 0.89867403],\n",
       "       [0.81342548, 0.4954956 , 0.82984751, 0.32990021, 0.43192302],\n",
       "       [0.7083111 , 0.54272873, 0.48841959, 0.93899834, 0.99932635],\n",
       "       [0.88989807, 0.47626405, 0.26031139, 0.89202271, 0.43095132],\n",
       "       [0.14847266, 0.84742142, 0.98877215, 0.59015038, 0.56825083],\n",
       "       [0.67733417, 0.42589251, 0.65401028, 0.25492032, 0.9248589 ]])"
      ]
     },
     "execution_count": 142,
     "metadata": {},
     "output_type": "execute_result"
    }
   ],
   "source": [
    "x"
   ]
  },
  {
   "cell_type": "code",
   "execution_count": 143,
   "metadata": {},
   "outputs": [
    {
     "data": {
      "text/plain": [
       "32.49047739154767"
      ]
     },
     "execution_count": 143,
     "metadata": {},
     "output_type": "execute_result"
    }
   ],
   "source": [
    "x.sum()"
   ]
  },
  {
   "cell_type": "code",
   "execution_count": 144,
   "metadata": {},
   "outputs": [
    {
     "data": {
      "text/plain": [
       "array([6.92908301, 6.44202308, 6.31927579, 5.98409714, 6.81599837])"
      ]
     },
     "execution_count": 144,
     "metadata": {},
     "output_type": "execute_result"
    }
   ],
   "source": [
    "x.sum(axis = 0)"
   ]
  },
  {
   "cell_type": "code",
   "execution_count": 145,
   "metadata": {},
   "outputs": [
    {
     "data": {
      "text/plain": [
       "array([2.55239084, 4.35029026, 3.08232625, 3.37356055, 3.52400239,\n",
       "       2.90059183, 3.67778412, 2.94944754, 3.14306744, 2.93701618])"
      ]
     },
     "execution_count": 145,
     "metadata": {},
     "output_type": "execute_result"
    }
   ],
   "source": [
    "x.sum(axis = 1)"
   ]
  },
  {
   "cell_type": "code",
   "execution_count": 146,
   "metadata": {},
   "outputs": [
    {
     "data": {
      "text/plain": [
       "0.6498095478309535"
      ]
     },
     "execution_count": 146,
     "metadata": {},
     "output_type": "execute_result"
    }
   ],
   "source": [
    "x.mean()"
   ]
  },
  {
   "cell_type": "code",
   "execution_count": 147,
   "metadata": {},
   "outputs": [
    {
     "data": {
      "text/plain": [
       "array([0.6929083 , 0.64420231, 0.63192758, 0.59840971, 0.68159984])"
      ]
     },
     "execution_count": 147,
     "metadata": {},
     "output_type": "execute_result"
    }
   ],
   "source": [
    "x.mean(axis = 0)"
   ]
  },
  {
   "cell_type": "code",
   "execution_count": 148,
   "metadata": {},
   "outputs": [
    {
     "data": {
      "text/plain": [
       "array([0.51047817, 0.87005805, 0.61646525, 0.67471211, 0.70480048,\n",
       "       0.58011837, 0.73555682, 0.58988951, 0.62861349, 0.58740324])"
      ]
     },
     "execution_count": 148,
     "metadata": {},
     "output_type": "execute_result"
    }
   ],
   "source": [
    "x.mean(axis = 1)"
   ]
  },
  {
   "cell_type": "code",
   "execution_count": 150,
   "metadata": {},
   "outputs": [
    {
     "data": {
      "text/plain": [
       "array([[0.64770735, 0.17915517, 0.46270874, 0.30452717, 0.95829241],\n",
       "       [1.39668659, 1.11379667, 1.41262046, 1.14836239, 1.83121499],\n",
       "       [1.96594349, 1.95822169, 2.2695829 , 1.45991654, 2.33134273],\n",
       "       [2.93718056, 2.80982131, 2.71724696, 2.33230514, 2.56201392],\n",
       "       [3.69164153, 3.65422076, 3.09791487, 2.97810517, 3.46068795],\n",
       "       [4.50506701, 4.14971637, 3.92776238, 3.30800538, 3.89261098],\n",
       "       [5.21337811, 4.6924451 , 4.41618197, 4.24700373, 4.89193732],\n",
       "       [6.10327618, 5.16870915, 4.67649336, 5.13902644, 5.32288864],\n",
       "       [6.25174884, 6.01613057, 5.66526551, 5.72917682, 5.89113947],\n",
       "       [6.92908301, 6.44202308, 6.31927579, 5.98409714, 6.81599837]])"
      ]
     },
     "execution_count": 150,
     "metadata": {},
     "output_type": "execute_result"
    }
   ],
   "source": [
    "x.cumsum(axis = 0)"
   ]
  },
  {
   "cell_type": "code",
   "execution_count": 151,
   "metadata": {},
   "outputs": [
    {
     "data": {
      "text/plain": [
       "array([[0.64770735, 0.17915517, 0.46270874, 0.30452717, 0.95829241],\n",
       "       [0.74897924, 0.9346415 , 0.94991172, 0.84383522, 0.87292258],\n",
       "       [0.5692569 , 0.84442502, 0.85696244, 0.31155415, 0.50012774],\n",
       "       [0.97123707, 0.85159962, 0.44766406, 0.8723886 , 0.23067119],\n",
       "       [0.75446097, 0.84439945, 0.38066791, 0.64580003, 0.89867403],\n",
       "       [0.81342548, 0.4954956 , 0.82984751, 0.32990021, 0.43192302],\n",
       "       [0.7083111 , 0.54272873, 0.48841959, 0.93899834, 0.99932635],\n",
       "       [0.88989807, 0.47626405, 0.26031139, 0.89202271, 0.43095132],\n",
       "       [0.14847266, 0.84742142, 0.98877215, 0.59015038, 0.56825083],\n",
       "       [0.67733417, 0.42589251, 0.65401028, 0.25492032, 0.9248589 ]])"
      ]
     },
     "execution_count": 151,
     "metadata": {},
     "output_type": "execute_result"
    }
   ],
   "source": [
    "x"
   ]
  },
  {
   "cell_type": "code",
   "execution_count": 152,
   "metadata": {},
   "outputs": [
    {
     "data": {
      "text/plain": [
       "array([[0.64770735, 0.82686253, 1.28957126, 1.59409843, 2.55239084],\n",
       "       [0.74897924, 1.68362073, 2.63353246, 3.47736768, 4.35029026],\n",
       "       [0.5692569 , 1.41368192, 2.27064436, 2.58219851, 3.08232625],\n",
       "       [0.97123707, 1.82283669, 2.27050075, 3.14288935, 3.37356055],\n",
       "       [0.75446097, 1.59886042, 1.97952833, 2.62532836, 3.52400239],\n",
       "       [0.81342548, 1.30892108, 2.13876859, 2.4686688 , 2.90059183],\n",
       "       [0.7083111 , 1.25103983, 1.73945943, 2.67845777, 3.67778412],\n",
       "       [0.88989807, 1.36616212, 1.62647351, 2.51849623, 2.94944754],\n",
       "       [0.14847266, 0.99589408, 1.98466623, 2.57481661, 3.14306744],\n",
       "       [0.67733417, 1.10322668, 1.75723697, 2.01215728, 2.93701618]])"
      ]
     },
     "execution_count": 152,
     "metadata": {},
     "output_type": "execute_result"
    }
   ],
   "source": [
    "x.cumsum(axis = 1)"
   ]
  },
  {
   "cell_type": "code",
   "execution_count": 153,
   "metadata": {},
   "outputs": [
    {
     "data": {
      "text/plain": [
       "array([0.6929083 , 0.64420231, 0.63192758, 0.59840971, 0.68159984])"
      ]
     },
     "execution_count": 153,
     "metadata": {},
     "output_type": "execute_result"
    }
   ],
   "source": [
    "np.mean(x, axis = 0)"
   ]
  },
  {
   "cell_type": "code",
   "execution_count": 154,
   "metadata": {},
   "outputs": [
    {
     "data": {
      "text/plain": [
       "0.6498095478309535"
      ]
     },
     "execution_count": 154,
     "metadata": {},
     "output_type": "execute_result"
    }
   ],
   "source": [
    "np.mean(x)"
   ]
  },
  {
   "cell_type": "code",
   "execution_count": 157,
   "metadata": {},
   "outputs": [
    {
     "data": {
      "text/plain": [
       "0.9993263494618303"
      ]
     },
     "execution_count": 157,
     "metadata": {},
     "output_type": "execute_result"
    }
   ],
   "source": [
    "x.max()"
   ]
  },
  {
   "cell_type": "code",
   "execution_count": 156,
   "metadata": {},
   "outputs": [
    {
     "data": {
      "text/plain": [
       "array([[0.64770735, 0.17915517, 0.46270874, 0.30452717, 0.95829241],\n",
       "       [0.74897924, 0.9346415 , 0.94991172, 0.84383522, 0.87292258],\n",
       "       [0.5692569 , 0.84442502, 0.85696244, 0.31155415, 0.50012774],\n",
       "       [0.97123707, 0.85159962, 0.44766406, 0.8723886 , 0.23067119],\n",
       "       [0.75446097, 0.84439945, 0.38066791, 0.64580003, 0.89867403],\n",
       "       [0.81342548, 0.4954956 , 0.82984751, 0.32990021, 0.43192302],\n",
       "       [0.7083111 , 0.54272873, 0.48841959, 0.93899834, 0.99932635],\n",
       "       [0.88989807, 0.47626405, 0.26031139, 0.89202271, 0.43095132],\n",
       "       [0.14847266, 0.84742142, 0.98877215, 0.59015038, 0.56825083],\n",
       "       [0.67733417, 0.42589251, 0.65401028, 0.25492032, 0.9248589 ]])"
      ]
     },
     "execution_count": 156,
     "metadata": {},
     "output_type": "execute_result"
    }
   ],
   "source": [
    "x"
   ]
  },
  {
   "cell_type": "code",
   "execution_count": 159,
   "metadata": {},
   "outputs": [
    {
     "data": {
      "text/plain": [
       "array([0.97123707, 0.9346415 , 0.98877215, 0.93899834, 0.99932635])"
      ]
     },
     "execution_count": 159,
     "metadata": {},
     "output_type": "execute_result"
    }
   ],
   "source": [
    "x.max(axis = 0)"
   ]
  },
  {
   "cell_type": "code",
   "execution_count": 160,
   "metadata": {},
   "outputs": [
    {
     "data": {
      "text/plain": [
       "array([0.95829241, 0.94991172, 0.85696244, 0.97123707, 0.89867403,\n",
       "       0.82984751, 0.99932635, 0.89202271, 0.98877215, 0.9248589 ])"
      ]
     },
     "execution_count": 160,
     "metadata": {},
     "output_type": "execute_result"
    }
   ],
   "source": [
    "x.max(axis = 1)"
   ]
  },
  {
   "cell_type": "code",
   "execution_count": 162,
   "metadata": {},
   "outputs": [],
   "source": [
    "x.sort(axis = 0)"
   ]
  },
  {
   "cell_type": "code",
   "execution_count": 163,
   "metadata": {},
   "outputs": [
    {
     "data": {
      "text/plain": [
       "array([[0.14847266, 0.17915517, 0.26031139, 0.25492032, 0.23067119],\n",
       "       [0.5692569 , 0.42589251, 0.38066791, 0.30452717, 0.43095132],\n",
       "       [0.64770735, 0.47626405, 0.44766406, 0.31155415, 0.43192302],\n",
       "       [0.67733417, 0.4954956 , 0.46270874, 0.32990021, 0.50012774],\n",
       "       [0.7083111 , 0.54272873, 0.48841959, 0.59015038, 0.56825083],\n",
       "       [0.74897924, 0.84439945, 0.65401028, 0.64580003, 0.87292258],\n",
       "       [0.75446097, 0.84442502, 0.82984751, 0.84383522, 0.89867403],\n",
       "       [0.81342548, 0.84742142, 0.85696244, 0.8723886 , 0.9248589 ],\n",
       "       [0.88989807, 0.85159962, 0.94991172, 0.89202271, 0.95829241],\n",
       "       [0.97123707, 0.9346415 , 0.98877215, 0.93899834, 0.99932635]])"
      ]
     },
     "execution_count": 163,
     "metadata": {},
     "output_type": "execute_result"
    }
   ],
   "source": [
    "x"
   ]
  },
  {
   "cell_type": "code",
   "execution_count": 164,
   "metadata": {},
   "outputs": [
    {
     "data": {
      "text/plain": [
       "array([[0.97123707, 0.9346415 , 0.98877215, 0.93899834, 0.99932635],\n",
       "       [0.88989807, 0.85159962, 0.94991172, 0.89202271, 0.95829241],\n",
       "       [0.81342548, 0.84742142, 0.85696244, 0.8723886 , 0.9248589 ],\n",
       "       [0.75446097, 0.84442502, 0.82984751, 0.84383522, 0.89867403],\n",
       "       [0.74897924, 0.84439945, 0.65401028, 0.64580003, 0.87292258],\n",
       "       [0.7083111 , 0.54272873, 0.48841959, 0.59015038, 0.56825083],\n",
       "       [0.67733417, 0.4954956 , 0.46270874, 0.32990021, 0.50012774],\n",
       "       [0.64770735, 0.47626405, 0.44766406, 0.31155415, 0.43192302],\n",
       "       [0.5692569 , 0.42589251, 0.38066791, 0.30452717, 0.43095132],\n",
       "       [0.14847266, 0.17915517, 0.26031139, 0.25492032, 0.23067119]])"
      ]
     },
     "execution_count": 164,
     "metadata": {},
     "output_type": "execute_result"
    }
   ],
   "source": [
    "np.flipud(x)"
   ]
  },
  {
   "cell_type": "markdown",
   "metadata": {},
   "source": [
    "## stacking numpy arrays\n"
   ]
  },
  {
   "cell_type": "code",
   "execution_count": 165,
   "metadata": {},
   "outputs": [],
   "source": [
    "x = np.random.rand(5, 3)\n",
    "y = np.random.rand(3, 3)"
   ]
  },
  {
   "cell_type": "code",
   "execution_count": 166,
   "metadata": {},
   "outputs": [
    {
     "data": {
      "text/plain": [
       "(array([[0.55915584, 0.61180559, 0.62311647],\n",
       "        [0.14949944, 0.24482692, 0.04610913],\n",
       "        [0.09572467, 0.18543116, 0.07187317],\n",
       "        [0.77967028, 0.32853229, 0.46774517],\n",
       "        [0.98858493, 0.18080158, 0.22727487]]),\n",
       " array([[0.43173563, 0.0662458 , 0.82242628],\n",
       "        [0.05104012, 0.88640294, 0.59331608],\n",
       "        [0.78025656, 0.74894085, 0.96716906]]))"
      ]
     },
     "execution_count": 166,
     "metadata": {},
     "output_type": "execute_result"
    }
   ],
   "source": [
    "(x,y)"
   ]
  },
  {
   "cell_type": "code",
   "execution_count": 167,
   "metadata": {},
   "outputs": [
    {
     "data": {
      "text/plain": [
       "array([[0.55915584, 0.61180559, 0.62311647],\n",
       "       [0.14949944, 0.24482692, 0.04610913],\n",
       "       [0.09572467, 0.18543116, 0.07187317],\n",
       "       [0.77967028, 0.32853229, 0.46774517],\n",
       "       [0.98858493, 0.18080158, 0.22727487],\n",
       "       [0.43173563, 0.0662458 , 0.82242628],\n",
       "       [0.05104012, 0.88640294, 0.59331608],\n",
       "       [0.78025656, 0.74894085, 0.96716906]])"
      ]
     },
     "execution_count": 167,
     "metadata": {},
     "output_type": "execute_result"
    }
   ],
   "source": [
    "np.vstack((x, y))"
   ]
  },
  {
   "cell_type": "code",
   "execution_count": 168,
   "metadata": {},
   "outputs": [
    {
     "data": {
      "text/plain": [
       "array([[0.55915584, 0.61180559, 0.62311647],\n",
       "       [0.14949944, 0.24482692, 0.04610913],\n",
       "       [0.09572467, 0.18543116, 0.07187317],\n",
       "       [0.77967028, 0.32853229, 0.46774517],\n",
       "       [0.98858493, 0.18080158, 0.22727487],\n",
       "       [0.43173563, 0.0662458 , 0.82242628],\n",
       "       [0.05104012, 0.88640294, 0.59331608],\n",
       "       [0.78025656, 0.74894085, 0.96716906]])"
      ]
     },
     "execution_count": 168,
     "metadata": {},
     "output_type": "execute_result"
    }
   ],
   "source": [
    "np.r_[x, y]"
   ]
  },
  {
   "cell_type": "code",
   "execution_count": 169,
   "metadata": {},
   "outputs": [],
   "source": [
    "z = np.random.rand(5, 5)"
   ]
  },
  {
   "cell_type": "code",
   "execution_count": 170,
   "metadata": {},
   "outputs": [
    {
     "data": {
      "text/plain": [
       "array([[0.55915584, 0.61180559, 0.62311647],\n",
       "       [0.14949944, 0.24482692, 0.04610913],\n",
       "       [0.09572467, 0.18543116, 0.07187317],\n",
       "       [0.77967028, 0.32853229, 0.46774517],\n",
       "       [0.98858493, 0.18080158, 0.22727487]])"
      ]
     },
     "execution_count": 170,
     "metadata": {},
     "output_type": "execute_result"
    }
   ],
   "source": [
    "x"
   ]
  },
  {
   "cell_type": "code",
   "execution_count": 171,
   "metadata": {},
   "outputs": [
    {
     "data": {
      "text/plain": [
       "array([[0.79697546, 0.82804502, 0.09136732, 0.17139521, 0.7608476 ],\n",
       "       [0.29950282, 0.10015286, 0.81248243, 0.29181409, 0.00156742],\n",
       "       [0.23565508, 0.28059703, 0.34269637, 0.33921985, 0.00981113],\n",
       "       [0.64020228, 0.71570378, 0.07710458, 0.33569678, 0.85396572],\n",
       "       [0.22862999, 0.54492867, 0.1862676 , 0.85855045, 0.84381334]])"
      ]
     },
     "execution_count": 171,
     "metadata": {},
     "output_type": "execute_result"
    }
   ],
   "source": [
    "z"
   ]
  },
  {
   "cell_type": "code",
   "execution_count": 175,
   "metadata": {},
   "outputs": [
    {
     "data": {
      "text/plain": [
       "array([[0.55915584, 0.61180559, 0.62311647, 0.79697546, 0.82804502,\n",
       "        0.09136732, 0.17139521, 0.7608476 ],\n",
       "       [0.14949944, 0.24482692, 0.04610913, 0.29950282, 0.10015286,\n",
       "        0.81248243, 0.29181409, 0.00156742],\n",
       "       [0.09572467, 0.18543116, 0.07187317, 0.23565508, 0.28059703,\n",
       "        0.34269637, 0.33921985, 0.00981113],\n",
       "       [0.77967028, 0.32853229, 0.46774517, 0.64020228, 0.71570378,\n",
       "        0.07710458, 0.33569678, 0.85396572],\n",
       "       [0.98858493, 0.18080158, 0.22727487, 0.22862999, 0.54492867,\n",
       "        0.1862676 , 0.85855045, 0.84381334]])"
      ]
     },
     "execution_count": 175,
     "metadata": {},
     "output_type": "execute_result"
    }
   ],
   "source": [
    "np.hstack((x, z))"
   ]
  },
  {
   "cell_type": "code",
   "execution_count": 176,
   "metadata": {},
   "outputs": [
    {
     "data": {
      "text/plain": [
       "array([[0.55915584, 0.61180559, 0.62311647, 0.79697546, 0.82804502,\n",
       "        0.09136732, 0.17139521, 0.7608476 ],\n",
       "       [0.14949944, 0.24482692, 0.04610913, 0.29950282, 0.10015286,\n",
       "        0.81248243, 0.29181409, 0.00156742],\n",
       "       [0.09572467, 0.18543116, 0.07187317, 0.23565508, 0.28059703,\n",
       "        0.34269637, 0.33921985, 0.00981113],\n",
       "       [0.77967028, 0.32853229, 0.46774517, 0.64020228, 0.71570378,\n",
       "        0.07710458, 0.33569678, 0.85396572],\n",
       "       [0.98858493, 0.18080158, 0.22727487, 0.22862999, 0.54492867,\n",
       "        0.1862676 , 0.85855045, 0.84381334]])"
      ]
     },
     "execution_count": 176,
     "metadata": {},
     "output_type": "execute_result"
    }
   ],
   "source": [
    "np.c_[x, z]"
   ]
  },
  {
   "cell_type": "markdown",
   "metadata": {},
   "source": [
    "## broadcasting"
   ]
  },
  {
   "cell_type": "code",
   "execution_count": 177,
   "metadata": {},
   "outputs": [],
   "source": [
    "x = np.random.rand(10)"
   ]
  },
  {
   "cell_type": "code",
   "execution_count": 178,
   "metadata": {},
   "outputs": [
    {
     "data": {
      "text/plain": [
       "array([0.28793758, 0.26098614, 0.00679845, 0.44622336, 0.34116883,\n",
       "       0.27983802, 0.45335958, 0.66398022, 0.8199232 , 0.39206078])"
      ]
     },
     "execution_count": 178,
     "metadata": {},
     "output_type": "execute_result"
    }
   ],
   "source": [
    "x"
   ]
  },
  {
   "cell_type": "code",
   "execution_count": 179,
   "metadata": {},
   "outputs": [
    {
     "data": {
      "text/plain": [
       "array([2.28793758, 2.26098614, 2.00679845, 2.44622336, 2.34116883,\n",
       "       2.27983802, 2.45335958, 2.66398022, 2.8199232 , 2.39206078])"
      ]
     },
     "execution_count": 179,
     "metadata": {},
     "output_type": "execute_result"
    }
   ],
   "source": [
    "x + 2.0 "
   ]
  },
  {
   "cell_type": "code",
   "execution_count": 180,
   "metadata": {},
   "outputs": [
    {
     "data": {
      "text/plain": [
       "array([0.28793758, 0.26098614, 0.00679845, 0.44622336, 0.34116883,\n",
       "       0.27983802, 0.45335958, 0.66398022, 0.8199232 , 0.39206078])"
      ]
     },
     "execution_count": 180,
     "metadata": {},
     "output_type": "execute_result"
    }
   ],
   "source": [
    "x"
   ]
  },
  {
   "cell_type": "code",
   "execution_count": 181,
   "metadata": {},
   "outputs": [],
   "source": [
    "y = np.random.rand(5, 10)"
   ]
  },
  {
   "cell_type": "code",
   "execution_count": 182,
   "metadata": {},
   "outputs": [
    {
     "data": {
      "text/plain": [
       "array([0.28793758, 0.26098614, 0.00679845, 0.44622336, 0.34116883,\n",
       "       0.27983802, 0.45335958, 0.66398022, 0.8199232 , 0.39206078])"
      ]
     },
     "execution_count": 182,
     "metadata": {},
     "output_type": "execute_result"
    }
   ],
   "source": [
    "x"
   ]
  },
  {
   "cell_type": "code",
   "execution_count": 183,
   "metadata": {},
   "outputs": [
    {
     "data": {
      "text/plain": [
       "array([[0.06736594, 0.36175163, 0.13412776, 0.88679587, 0.20006939,\n",
       "        0.20195201, 0.83276368, 0.56359361, 0.36638931, 0.58173914],\n",
       "       [0.26612403, 0.70844552, 0.13998838, 0.14011247, 0.96776996,\n",
       "        0.68024852, 0.22066346, 0.03789045, 0.78677884, 0.73375821],\n",
       "       [0.69810188, 0.24379762, 0.20034467, 0.85002891, 0.95488756,\n",
       "        0.45555232, 0.4255064 , 0.21368729, 0.37843189, 0.8219036 ],\n",
       "       [0.98185518, 0.16045339, 0.04493646, 0.07256669, 0.39105478,\n",
       "        0.99409981, 0.80690568, 0.67448951, 0.97223286, 0.75544534],\n",
       "       [0.17586299, 0.67313832, 0.4991738 , 0.21200892, 0.78149286,\n",
       "        0.20614165, 0.99376441, 0.43767879, 0.72573025, 0.12554611]])"
      ]
     },
     "execution_count": 183,
     "metadata": {},
     "output_type": "execute_result"
    }
   ],
   "source": [
    "y"
   ]
  },
  {
   "cell_type": "code",
   "execution_count": 184,
   "metadata": {},
   "outputs": [
    {
     "data": {
      "text/plain": [
       "array([[0.35530352, 0.62273776, 0.14092621, 1.33301923, 0.54123821,\n",
       "        0.48179002, 1.28612326, 1.22757384, 1.18631251, 0.97379992],\n",
       "       [0.55406161, 0.96943166, 0.14678683, 0.58633583, 1.30893879,\n",
       "        0.96008654, 0.67402304, 0.70187068, 1.60670204, 1.12581899],\n",
       "       [0.98603946, 0.50478376, 0.20714312, 1.29625227, 1.29605639,\n",
       "        0.73539034, 0.87886598, 0.87766751, 1.19835509, 1.21396438],\n",
       "       [1.26979276, 0.42143953, 0.05173491, 0.51879005, 0.73222361,\n",
       "        1.27393782, 1.26026526, 1.33846974, 1.79215606, 1.14750612],\n",
       "       [0.46380057, 0.93412446, 0.50597225, 0.65823228, 1.12266168,\n",
       "        0.48597967, 1.447124  , 1.10165901, 1.54565345, 0.51760689]])"
      ]
     },
     "execution_count": 184,
     "metadata": {},
     "output_type": "execute_result"
    }
   ],
   "source": [
    "x + y "
   ]
  },
  {
   "cell_type": "code",
   "execution_count": 185,
   "metadata": {},
   "outputs": [
    {
     "data": {
      "text/plain": [
       "(10,)"
      ]
     },
     "execution_count": 185,
     "metadata": {},
     "output_type": "execute_result"
    }
   ],
   "source": [
    "x.shape"
   ]
  },
  {
   "cell_type": "code",
   "execution_count": 186,
   "metadata": {},
   "outputs": [
    {
     "data": {
      "text/plain": [
       "(5, 10)"
      ]
     },
     "execution_count": 186,
     "metadata": {},
     "output_type": "execute_result"
    }
   ],
   "source": [
    "y.shape"
   ]
  },
  {
   "cell_type": "code",
   "execution_count": 187,
   "metadata": {},
   "outputs": [],
   "source": [
    "x = np.random.rand(3)"
   ]
  },
  {
   "cell_type": "code",
   "execution_count": 188,
   "metadata": {},
   "outputs": [
    {
     "data": {
      "text/plain": [
       "array([0.64520355, 0.85208518, 0.7288368 ])"
      ]
     },
     "execution_count": 188,
     "metadata": {},
     "output_type": "execute_result"
    }
   ],
   "source": [
    "x"
   ]
  },
  {
   "cell_type": "code",
   "execution_count": 189,
   "metadata": {},
   "outputs": [
    {
     "data": {
      "text/plain": [
       "(3,)"
      ]
     },
     "execution_count": 189,
     "metadata": {},
     "output_type": "execute_result"
    }
   ],
   "source": [
    "x.shape"
   ]
  },
  {
   "cell_type": "code",
   "execution_count": 191,
   "metadata": {},
   "outputs": [],
   "source": [
    "y = x.reshape((3, 1))"
   ]
  },
  {
   "cell_type": "code",
   "execution_count": 192,
   "metadata": {},
   "outputs": [
    {
     "data": {
      "text/plain": [
       "(3, 1)"
      ]
     },
     "execution_count": 192,
     "metadata": {},
     "output_type": "execute_result"
    }
   ],
   "source": [
    "y.shape"
   ]
  },
  {
   "cell_type": "code",
   "execution_count": 193,
   "metadata": {},
   "outputs": [
    {
     "data": {
      "text/plain": [
       "(3,)"
      ]
     },
     "execution_count": 193,
     "metadata": {},
     "output_type": "execute_result"
    }
   ],
   "source": [
    "x.shape"
   ]
  },
  {
   "cell_type": "code",
   "execution_count": 194,
   "metadata": {},
   "outputs": [
    {
     "data": {
      "text/plain": [
       "array([0.64520355, 0.85208518, 0.7288368 ])"
      ]
     },
     "execution_count": 194,
     "metadata": {},
     "output_type": "execute_result"
    }
   ],
   "source": [
    "x\n"
   ]
  },
  {
   "cell_type": "code",
   "execution_count": 195,
   "metadata": {},
   "outputs": [
    {
     "data": {
      "text/plain": [
       "array([[0.64520355],\n",
       "       [0.85208518],\n",
       "       [0.7288368 ]])"
      ]
     },
     "execution_count": 195,
     "metadata": {},
     "output_type": "execute_result"
    }
   ],
   "source": [
    "y"
   ]
  },
  {
   "cell_type": "code",
   "execution_count": 196,
   "metadata": {},
   "outputs": [
    {
     "data": {
      "text/plain": [
       "array([[1.29040711, 1.49728873, 1.37404035],\n",
       "       [1.49728873, 1.70417036, 1.58092198],\n",
       "       [1.37404035, 1.58092198, 1.4576736 ]])"
      ]
     },
     "execution_count": 196,
     "metadata": {},
     "output_type": "execute_result"
    }
   ],
   "source": [
    "x + y"
   ]
  },
  {
   "cell_type": "code",
   "execution_count": 197,
   "metadata": {},
   "outputs": [
    {
     "data": {
      "text/plain": [
       "array([0.64520355, 0.85208518, 0.7288368 ])"
      ]
     },
     "execution_count": 197,
     "metadata": {},
     "output_type": "execute_result"
    }
   ],
   "source": [
    "x"
   ]
  },
  {
   "cell_type": "markdown",
   "metadata": {},
   "source": [
    "## Linear algebra, matrix operations"
   ]
  },
  {
   "cell_type": "code",
   "execution_count": 200,
   "metadata": {},
   "outputs": [],
   "source": [
    "x = np.random.rand(3)\n",
    "y = np.random.rand(3)"
   ]
  },
  {
   "cell_type": "code",
   "execution_count": 201,
   "metadata": {},
   "outputs": [
    {
     "data": {
      "text/plain": [
       "array([0.81037607, 0.88569432, 0.85150288])"
      ]
     },
     "execution_count": 201,
     "metadata": {},
     "output_type": "execute_result"
    }
   ],
   "source": [
    "x"
   ]
  },
  {
   "cell_type": "code",
   "execution_count": 202,
   "metadata": {},
   "outputs": [
    {
     "data": {
      "text/plain": [
       "array([0.46800704, 0.23049331, 0.08437641])"
      ]
     },
     "execution_count": 202,
     "metadata": {},
     "output_type": "execute_result"
    }
   ],
   "source": [
    "y"
   ]
  },
  {
   "cell_type": "code",
   "execution_count": 204,
   "metadata": {},
   "outputs": [
    {
     "data": {
      "text/plain": [
       "0.6552550778131954"
      ]
     },
     "execution_count": 204,
     "metadata": {},
     "output_type": "execute_result"
    }
   ],
   "source": [
    "(x * y).sum()"
   ]
  },
  {
   "cell_type": "code",
   "execution_count": 205,
   "metadata": {},
   "outputs": [
    {
     "data": {
      "text/plain": [
       "0.6552550778131954"
      ]
     },
     "execution_count": 205,
     "metadata": {},
     "output_type": "execute_result"
    }
   ],
   "source": [
    "z = x * y\n",
    "z.sum()"
   ]
  },
  {
   "cell_type": "code",
   "execution_count": 206,
   "metadata": {},
   "outputs": [
    {
     "data": {
      "text/plain": [
       "0.6552550778131954"
      ]
     },
     "execution_count": 206,
     "metadata": {},
     "output_type": "execute_result"
    }
   ],
   "source": [
    "np.inner(x, y)"
   ]
  },
  {
   "cell_type": "code",
   "execution_count": 207,
   "metadata": {},
   "outputs": [
    {
     "data": {
      "text/plain": [
       "0.6552550778131954"
      ]
     },
     "execution_count": 207,
     "metadata": {},
     "output_type": "execute_result"
    }
   ],
   "source": [
    "np.dot(x, y)"
   ]
  },
  {
   "cell_type": "code",
   "execution_count": 208,
   "metadata": {},
   "outputs": [],
   "source": [
    "x = np.random.rand(5, 3)\n",
    "y = np.random.rand(3, 2)"
   ]
  },
  {
   "cell_type": "code",
   "execution_count": 209,
   "metadata": {},
   "outputs": [
    {
     "data": {
      "text/plain": [
       "array([[1.08657362, 1.22586795],\n",
       "       [1.22408866, 1.24622943],\n",
       "       [1.30217286, 1.13100307],\n",
       "       [1.32810147, 1.47638815],\n",
       "       [1.05204946, 1.09501404]])"
      ]
     },
     "execution_count": 209,
     "metadata": {},
     "output_type": "execute_result"
    }
   ],
   "source": [
    "x @ y "
   ]
  },
  {
   "cell_type": "code",
   "execution_count": 210,
   "metadata": {},
   "outputs": [
    {
     "ename": "ValueError",
     "evalue": "operands could not be broadcast together with shapes (5,3) (3,2) ",
     "output_type": "error",
     "traceback": [
      "\u001b[0;31m---------------------------------------------------------------------------\u001b[0m",
      "\u001b[0;31mValueError\u001b[0m                                Traceback (most recent call last)",
      "\u001b[0;32m<ipython-input-210-e32109319f52>\u001b[0m in \u001b[0;36m<module>\u001b[0;34m\u001b[0m\n\u001b[0;32m----> 1\u001b[0;31m \u001b[0mx\u001b[0m \u001b[0;34m*\u001b[0m \u001b[0my\u001b[0m\u001b[0;34m\u001b[0m\u001b[0;34m\u001b[0m\u001b[0m\n\u001b[0m",
      "\u001b[0;31mValueError\u001b[0m: operands could not be broadcast together with shapes (5,3) (3,2) "
     ]
    }
   ],
   "source": [
    "x * y"
   ]
  },
  {
   "cell_type": "code",
   "execution_count": 211,
   "metadata": {},
   "outputs": [
    {
     "data": {
      "text/plain": [
       "array([[1.08657362, 1.22586795],\n",
       "       [1.22408866, 1.24622943],\n",
       "       [1.30217286, 1.13100307],\n",
       "       [1.32810147, 1.47638815],\n",
       "       [1.05204946, 1.09501404]])"
      ]
     },
     "execution_count": 211,
     "metadata": {},
     "output_type": "execute_result"
    }
   ],
   "source": [
    "x @ y"
   ]
  },
  {
   "cell_type": "code",
   "execution_count": 213,
   "metadata": {},
   "outputs": [
    {
     "data": {
      "text/plain": [
       "array([[1.08657362, 1.22586795],\n",
       "       [1.22408866, 1.24622943],\n",
       "       [1.30217286, 1.13100307],\n",
       "       [1.32810147, 1.47638815],\n",
       "       [1.05204946, 1.09501404]])"
      ]
     },
     "execution_count": 213,
     "metadata": {},
     "output_type": "execute_result"
    }
   ],
   "source": [
    "np.dot(x, y)"
   ]
  },
  {
   "cell_type": "code",
   "execution_count": 214,
   "metadata": {},
   "outputs": [
    {
     "data": {
      "text/plain": [
       "array([[0.63776322, 0.24764868, 0.5250217 ],\n",
       "       [0.47135271, 0.53843555, 0.5389729 ],\n",
       "       [0.21788733, 0.90260515, 0.4546989 ],\n",
       "       [0.39568005, 0.55536339, 0.83331733],\n",
       "       [0.69014715, 0.26902112, 0.33205723]])"
      ]
     },
     "execution_count": 214,
     "metadata": {},
     "output_type": "execute_result"
    }
   ],
   "source": [
    "x"
   ]
  },
  {
   "cell_type": "code",
   "execution_count": 215,
   "metadata": {},
   "outputs": [
    {
     "data": {
      "text/plain": [
       "array([[0.89582882, 0.90323027],\n",
       "       [0.96021451, 0.53975265],\n",
       "       [0.52845643, 0.98310579]])"
      ]
     },
     "execution_count": 215,
     "metadata": {},
     "output_type": "execute_result"
    }
   ],
   "source": [
    "y"
   ]
  },
  {
   "cell_type": "code",
   "execution_count": 216,
   "metadata": {},
   "outputs": [
    {
     "data": {
      "text/plain": [
       "array([[1.08657362, 1.22586795],\n",
       "       [1.22408866, 1.24622943],\n",
       "       [1.30217286, 1.13100307],\n",
       "       [1.32810147, 1.47638815],\n",
       "       [1.05204946, 1.09501404]])"
      ]
     },
     "execution_count": 216,
     "metadata": {},
     "output_type": "execute_result"
    }
   ],
   "source": [
    "np.inner(x, y.T)"
   ]
  },
  {
   "cell_type": "code",
   "execution_count": 217,
   "metadata": {},
   "outputs": [
    {
     "data": {
      "text/plain": [
       "(array([[0.63776322, 0.24764868, 0.5250217 ],\n",
       "        [0.47135271, 0.53843555, 0.5389729 ],\n",
       "        [0.21788733, 0.90260515, 0.4546989 ],\n",
       "        [0.39568005, 0.55536339, 0.83331733],\n",
       "        [0.69014715, 0.26902112, 0.33205723]]),\n",
       " array([[0.89582882, 0.96021451, 0.52845643],\n",
       "        [0.90323027, 0.53975265, 0.98310579]]))"
      ]
     },
     "execution_count": 217,
     "metadata": {},
     "output_type": "execute_result"
    }
   ],
   "source": [
    "x, y.T"
   ]
  },
  {
   "cell_type": "code",
   "execution_count": 219,
   "metadata": {},
   "outputs": [],
   "source": [
    "?np.dot"
   ]
  },
  {
   "cell_type": "code",
   "execution_count": null,
   "metadata": {},
   "outputs": [],
   "source": []
  }
 ],
 "metadata": {
  "kernelspec": {
   "display_name": "Python 3",
   "language": "python",
   "name": "python3"
  },
  "language_info": {
   "codemirror_mode": {
    "name": "ipython",
    "version": 3
   },
   "file_extension": ".py",
   "mimetype": "text/x-python",
   "name": "python",
   "nbconvert_exporter": "python",
   "pygments_lexer": "ipython3",
   "version": "3.8.6"
  }
 },
 "nbformat": 4,
 "nbformat_minor": 4
}
